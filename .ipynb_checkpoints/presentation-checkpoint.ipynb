{
 "cells": [
  {
   "cell_type": "markdown",
   "metadata": {
    "slideshow": {
     "slide_type": "slide"
    }
   },
   "source": [
    "# Graph Curvature and the Robustness of Cancer Networks\n",
    "### Allen Tannenbaum, Chris Sander, Romeil Sandhu, Liangjia Zhu, Ivan Kolesov, Eduard Reznik, Yasin Senbabaoglu, Tryphon Georgiou"
   ]
  },
  {
   "cell_type": "markdown",
   "metadata": {
    "slideshow": {
     "slide_type": "slide"
    }
   },
   "source": [
    "## Contents\n",
    "- Fluctuation Theorem\n",
    " + Robustness of a Network\n",
    " + Fluctuation Theorem\n",
    "- Curvature and Entropy\n",
    " + Displacement Convexity\n",
    " + Positive Correlation of Curvature and Entropy (and Robustness)\n",
    "- Curvature in Networks\n",
    " + Ollivier-Ricci Curvature\n",
    " + Scalar Curvature and Weighted Curvature\n",
    "- Application: Cancer Networks\n",
    " + Data Description\n",
    " + Intuition and Objective\n",
    " + Results"
   ]
  },
  {
   "cell_type": "markdown",
   "metadata": {
    "slideshow": {
     "slide_type": "slide"
    }
   },
   "source": [
    "## Robustness of a Network: Basic Intuition\n",
    "- Consider a Markov chain on a finite network $(X, P)$ (finite state space, transition matrix). \n",
    "- The robustness of a network measures how fast a network goes back to steady state under small perturbation."
   ]
  },
  {
   "cell_type": "markdown",
   "metadata": {
    "slideshow": {
     "slide_type": "subslide"
    }
   },
   "source": [
    "## Robustness of a Network: Birkhoff's Ergodic Theorem\n",
    "- Define $\\mathcal{Y} = \\mathcal{X}\\times \\mathcal{X}\\times \\cdots$ as the corresponding path space. Denote $\\tau: \\mathcal{Y}\\rightarrow \\mathcal{Y}$ as the shift operator:\n",
    "$$\\tau((x_0,x_1,x_2,\\cdots)) = (x_1, x_2, \\cdots)\n",
    "$$\n",
    "\n",
    "- For any real-valued function $\\phi:\\mathcal{Y}\\rightarrow \\mathcal{R}$, the ergodic theorem guarantees, for any $x\\in \\mathcal{Y}$ (almost surely),\n",
    "$$\\lim_{n\\rightarrow\\infty} \\frac{1}{n}\\sum_{i=1}^n\\phi(\\tau^i x) = \\int_{\\mathcal{Y}} \\phi(x)\\pi(x)\\mathrm{d}x := \\Phi$$\n",
    "$\\pi$ is the stationary distribution.\n"
   ]
  },
  {
   "cell_type": "markdown",
   "metadata": {
    "slideshow": {
     "slide_type": "subslide"
    }
   },
   "source": [
    "## Robustness of a Network: Large Deviation\n",
    "- Define\n",
    "$$\n",
    "Q_n(\\epsilon) = \\mu\\{x\\in Y: \\left|\\frac{1}{n}\\sum_{i=1}^n\\phi(\\tau^i x) - \\Phi\\right| > \\epsilon\\}\n",
    "$$\n",
    "The large deviation theorem gives Q converges to zero exponentially, thus we can define the robustness $R$:\n",
    "$$R = R(\\epsilon) = \\lim_{n\\rightarrow \\infty} -\\frac{1}{n}\\log Q_n(\\epsilon)\n",
    "$$"
   ]
  },
  {
   "cell_type": "markdown",
   "metadata": {
    "slideshow": {
     "slide_type": "fragment"
    }
   },
   "source": [
    "- The above definition of robustness can be dfined on more general dynamical systems. The network element comes in when we view the Markov chain as a dynamical system via the function $\\phi$:\n",
    "$$\\phi(x) := \\log p_{x_0x_1}$$\n",
    "\n"
   ]
  },
  {
   "cell_type": "markdown",
   "metadata": {
    "slideshow": {
     "slide_type": "slide"
    }
   },
   "source": [
    "### Fluctuation Theorem: Entropy\n",
    "- The entropy of a network can be defined as\n",
    "$$H = -\\sum_i \\pi_i \\sum_j p_{ij}\\log p_{ij}$$ \n",
    "$\\pi_i$ is the stationary distribution of the Markov chain.\n",
    "- This definition can also be derived as a special case of entropy for more general dynamical systems."
   ]
  },
  {
   "cell_type": "markdown",
   "metadata": {
    "slideshow": {
     "slide_type": "subslide"
    }
   },
   "source": [
    "### Fluctuation Theorem\n",
    "Consider a perturbation in the Network of the form\n",
    "$$\\phi(\\delta) = \\phi + \\delta\\phi$$\n",
    "Denote\n",
    "$$\\Delta R = R(\\delta) - R(0)$$\n",
    "$$\\Delta H = H(\\delta) - H(0)$$\n",
    "The fluctuation theorem states, for sufficiently small $\\delta$, we have\n",
    "$$\\Delta H \\times \\Delta R > 0$$"
   ]
  },
  {
   "cell_type": "markdown",
   "metadata": {
    "slideshow": {
     "slide_type": "slide"
    }
   },
   "source": [
    "### Displacement Convexity\n",
    "- $\\rho_0$ and $\\rho_1$: two probability measures on space $X$ with finite entropy $H(\\rho) = -\\int \\rho\\log\\rho $.\n",
    "- $\\rho_t$ : a geodesics between $\\rho_0$ and $\\rho_1$ (with respect to Wasserstein distance).\n",
    "\n"
   ]
  },
  {
   "cell_type": "markdown",
   "metadata": {
    "slideshow": {
     "slide_type": "fragment"
    }
   },
   "source": [
    "- if $X = \\mathcal{R}^N$ we have $H(t) = H(\\rho_t)$ is a concave function.\n",
    "\n",
    "- if $X = \\mathcal{M}$ is a manifold, we have\n",
    "$$H(\\rho_t) > tH (\\rho_0) + (1-t)H(\\rho_1) + \\frac{t(1-t)\\kappa}{2} W_2(\\rho_0, \\rho_1)^2$$\n",
    "- $\\kappa$ is a lower bound to the Ricci curvature on the manifold $\\mathcal{M}$."
   ]
  },
  {
   "cell_type": "markdown",
   "metadata": {
    "slideshow": {
     "slide_type": "slide"
    }
   },
   "source": [
    "### Positive Correlation of Curvature and Entropy (and Robustness)\n",
    "- On a network, we can use the inequality to define the Ricci curvature (lower bound) for the whole network.\n",
    "- This indicate the positive correlation of entropy and curvature that we will express as\n",
    "$$\\Delta S\\times\\Delta Ric > 0$$"
   ]
  },
  {
   "cell_type": "markdown",
   "metadata": {
    "slideshow": {
     "slide_type": "fragment"
    }
   },
   "source": [
    "- Combining with $\\Delta H \\times \\Delta R > 0$\n",
    "$$\\Delta R \\times \\Delta Ric > 0$$\n",
    "- Since the curvature is very easy to compute for a network, this may be used as an alternative way to expressing function robustness of a network."
   ]
  },
  {
   "cell_type": "markdown",
   "metadata": {
    "slideshow": {
     "slide_type": "slide"
    }
   },
   "source": [
    "### Ollivier-Ricci Curvature\n",
    "- the idea is that two small geodecis balls around two very close points will get closer on average if the curvature is positive.\n",
    "![](or.png)\n",
    "$$W_1(\\mu_x, \\mu_y) = (1 - \\kappa(x,y)) d(x,y)$$\n",
    "- On a network (weighted graph), we can define $\\mu_x$ as a one step random walk from $x$ using weights on edges.\n",
    "$$\\mu_x(y) := \\frac{\\omega_{xy}}{\\sum_{y}\\omega_{xy}}$$\n",
    "- Thus to compute curvature on a network, we only need to compute $W_1(\\mu_x, \\mu_y)$ and $d(x,y)$.\n",
    "$$\\kappa(x,y) = 1 - \\frac{W_1(\\mu_x, \\mu_y)}{d(x,y)}$$\n"
   ]
  },
  {
   "cell_type": "markdown",
   "metadata": {
    "slideshow": {
     "slide_type": "slide"
    }
   },
   "source": [
    "### Scalar Curvature and Weighted Curvature\n",
    "- Scalar Curvature:\n",
    "$$S(x) := \\sum_y \\kappa(x, y)$$\n",
    "- Weighted Curvature:\n",
    "$$S(x) := \\sum_y \\kappa(x, y)\\mu_x(y)$$"
   ]
  },
  {
   "cell_type": "markdown",
   "metadata": {
    "slideshow": {
     "slide_type": "slide"
    }
   },
   "source": [
    "### Data Description\n",
    "- Data provided are correlation values of gene-to-gene expression in cancer and normal networks. \n",
    "- The network is constructed using these correlation values as weights of the graph and the topology (adjacency matrix) of graph is given by underlying biological gene-to-gene interactions.\n",
    "- Two types of cancer networks are studied: metabolic and transcriptional regulation networks."
   ]
  },
  {
   "cell_type": "markdown",
   "metadata": {
    "slideshow": {
     "slide_type": "slide"
    }
   },
   "source": [
    "### Intuition and Objective\n",
    "- Compute curvatures as a measure of how robust cancer networks are: \n",
    "![](rc.png)\n",
    "the random network has average Ricci curvature of about −0.352085 with 63% of the edges being negative, while for E. Coli we have average curvature of −0.0222 with 50% of the edges being negative.\n",
    "\n",
    "- Compare robustness of cancer networks with normal networks via curvatures.\n",
    "- Identify edges with high $\\kappa$, which is an indication of source of robustness, thus might be cancer related."
   ]
  },
  {
   "cell_type": "markdown",
   "metadata": {
    "slideshow": {
     "slide_type": "slide"
    }
   },
   "source": [
    "### Metabolic Networks\n",
    "- 800 \"arbitrary\" genes, certain key genes associated with cancer (e.g., BRCA1, TP53) are not present.\n",
    "- Three curvatures are computed and averaged over each network. In all following results, computation is taken over just direct paths. (a complete computation (over all possible paths) still yields comparable results).\n",
    "![](cn1.png)"
   ]
  },
  {
   "cell_type": "markdown",
   "metadata": {
    "slideshow": {
     "slide_type": "subslide"
    }
   },
   "source": [
    "![](cn2.png)\n",
    "![](cn3.png)"
   ]
  },
  {
   "cell_type": "markdown",
   "metadata": {
    "slideshow": {
     "slide_type": "subslide"
    }
   },
   "source": [
    "### Metabolic Networks: important gene pairs\n",
    "![](cn7.png)\n"
   ]
  },
  {
   "cell_type": "markdown",
   "metadata": {
    "slideshow": {
     "slide_type": "subslide"
    }
   },
   "source": [
    "The gene LPO (Lactoperoxidase) has been known to contribute to the initiation of\n",
    "breast cancer [17], SOD3 has been considered an important gene in the defense against oxidative stress\n",
    "and prevention of estrogen-mediated breast cancer [45], PPAP2C has been described as anti-cancer drug\n",
    "target [14], GOT2 has been noted to significantly affect cell growth of pancreatic ductal adenocarcinoma\n",
    "[46], and over-expression of LRAT has lead to a poor prognoses in colorectal cancer. Interestingly, the\n",
    "reoccurrence of genes ACO1 and ACO2 can also be seen in Table IV. \n"
   ]
  },
  {
   "cell_type": "markdown",
   "metadata": {
    "slideshow": {
     "slide_type": "slide"
    }
   },
   "source": [
    "### Transcriptional Networks\n",
    "- 450 cancer-related genes, focus on the inter-relationship of cancer related genes.\n",
    "![](cn5.png)"
   ]
  },
  {
   "cell_type": "markdown",
   "metadata": {
    "slideshow": {
     "slide_type": "subslide"
    }
   },
   "source": [
    "### Transcriptional Networks\n",
    "![](cn6.png)"
   ]
  },
  {
   "cell_type": "markdown",
   "metadata": {
    "slideshow": {
     "slide_type": "subslide"
    }
   },
   "source": [
    "- RNF43 and TP53 are known tumor suppressor genes and ranked in the top and last gene pairs (out of\n",
    "a 100K possible pairs).\n",
    "- The computation here is on all possible paths. In the table * means these pairs are not present in the direct path. It means this interactions are hidden in the gene interaction network, while can be discovered by the curvature calculation.\n"
   ]
  },
  {
   "cell_type": "markdown",
   "metadata": {
    "slideshow": {
     "slide_type": "slide"
    }
   },
   "source": [
    "# END"
   ]
  }
 ],
 "metadata": {
  "celltoolbar": "Slideshow",
  "kernelspec": {
   "display_name": "Python 2",
   "language": "python",
   "name": "python2"
  },
  "language_info": {
   "codemirror_mode": {
    "name": "ipython",
    "version": 2
   },
   "file_extension": ".py",
   "mimetype": "text/x-python",
   "name": "python",
   "nbconvert_exporter": "python",
   "pygments_lexer": "ipython2",
   "version": "2.7.9"
  }
 },
 "nbformat": 4,
 "nbformat_minor": 0
}
